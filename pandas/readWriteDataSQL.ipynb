{
 "cells": [
  {
   "cell_type": "markdown",
   "metadata": {},
   "source": [
    "To connect to the database we need sqlalchemy\n",
    "1. sqlalchemy.create_engine() to create connection with the database\n",
    "2. Pandas to use read_sql_table to read data from the table\n",
    "3. query each data using pd.read_sql_query (we can use group by , join etc)\n",
    "4. TO put data back into the database we need make sure the column name should be same as the column avalibale in the database\n",
    "5. Using to_sql() we can put data into the database from the csv"
   ]
  },
  {
   "cell_type": "markdown",
   "metadata": {},
   "source": []
  }
 ],
 "metadata": {
  "kernelspec": {
   "display_name": "DataAnalysis-VMSQwslV",
   "language": "python",
   "name": "python3"
  },
  "language_info": {
   "name": "python",
   "version": "3.9.13 (v3.9.13:6de2ca5339, May 17 2022, 11:37:23) \n[Clang 13.0.0 (clang-1300.0.29.30)]"
  },
  "orig_nbformat": 4,
  "vscode": {
   "interpreter": {
    "hash": "bbdbb300cec05800f3d016db033c91d68cd3cff7d91ac0ce9b963981dd1a7be8"
   }
  }
 },
 "nbformat": 4,
 "nbformat_minor": 2
}
